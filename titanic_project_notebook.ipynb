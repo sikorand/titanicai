{
 "cells": [
  {
   "cell_type": "markdown",
   "id": "118f1f5f",
   "metadata": {},
   "source": [
    "# Titanic Survival Prediction — Project Notebook"
   ]
  },
  {
   "cell_type": "code",
   "execution_count": null,
   "id": "d93414a7",
   "metadata": {},
   "outputs": [],
   "source": [
    "import pandas as pd\n",
    "import numpy as np\n",
    "import matplotlib.pyplot as plt\n",
    "import seaborn as sns\n",
    "from sklearn.model_selection import train_test_split\n",
    "from sklearn.preprocessing import StandardScaler\n",
    "from sklearn.metrics import accuracy_score, precision_score, recall_score, f1_score, confusion_matrix, r2_score, mean_absolute_error, mean_absolute_percentage_error\n",
    "from sklearn.decomposition import PCA\n",
    "from scipy import stats\n",
    "import statsmodels.api as sm"
   ]
  },
  {
   "cell_type": "code",
   "execution_count": null,
   "id": "aa9b2be1",
   "metadata": {},
   "outputs": [],
   "source": [
    "df = pd.read_csv(\"train.csv\")\n",
    "df = df[[\"Survived\", \"Pclass\", \"Sex\", \"Age\", \"Fare\"]].dropna()\n",
    "df[\"Sex\"] = df[\"Sex\"].map({\"male\": 0, \"female\": 1})\n",
    "df.head()"
   ]
  },
  {
   "cell_type": "code",
   "execution_count": null,
   "id": "4aa19eee",
   "metadata": {},
   "outputs": [],
   "source": [
    "plt.figure(figsize=(10, 4))\n",
    "plt.subplot(1, 2, 1)\n",
    "sns.histplot(df[\"Age\"], kde=True)\n",
    "plt.title(\"Histogram: Age\")\n",
    "plt.subplot(1, 2, 2)\n",
    "sns.boxplot(x=\"Survived\", y=\"Fare\", data=df)\n",
    "plt.title(\"Boxplot: Fare vs Survival\")\n",
    "plt.tight_layout()\n",
    "plt.show()"
   ]
  },
  {
   "cell_type": "code",
   "execution_count": null,
   "id": "100e033c",
   "metadata": {},
   "outputs": [],
   "source": [
    "sm.qqplot(df[\"Age\"], line='s')\n",
    "plt.title(\"QQ-Plot: Age\")\n",
    "plt.show()\n",
    "\n",
    "stat, p = stats.shapiro(df[\"Age\"])\n",
    "print(f\"Shapiro-Wilk p-value: {p:.6f}\")\n"
   ]
  },
  {
   "cell_type": "code",
   "execution_count": null,
   "id": "2b60b0a5",
   "metadata": {},
   "outputs": [],
   "source": [
    "X = df[[\"Pclass\", \"Sex\", \"Age\", \"Fare\"]].values\n",
    "y = df[\"Survived\"].values.reshape(-1, 1)\n",
    "scaler = StandardScaler()\n",
    "X_scaled = scaler.fit_transform(X)\n",
    "\n",
    "X_pca = PCA(n_components=2).fit_transform(X_scaled)\n",
    "plt.figure(figsize=(6,5))\n",
    "plt.scatter(X_pca[:, 0], X_pca[:, 1], c=y.reshape(-1), cmap=\"coolwarm\", alpha=0.6)\n",
    "plt.title(\"PCA 2D Projection\")\n",
    "plt.xlabel(\"PC1\")\n",
    "plt.ylabel(\"PC2\")\n",
    "plt.grid(True)\n",
    "plt.show()"
   ]
  },
  {
   "cell_type": "code",
   "execution_count": null,
   "id": "84d7e068",
   "metadata": {},
   "outputs": [],
   "source": [
    "class LogisticRegressionCustom:\n",
    "    def __init__(self, lr=0.01, epochs=1000):\n",
    "        self.lr = lr\n",
    "        self.epochs = epochs\n",
    "\n",
    "    def sigmoid(self, z):\n",
    "        return 1 / (1 + np.exp(-z))\n",
    "\n",
    "    def fit(self, X, y):\n",
    "        self.m, self.n = X.shape\n",
    "        self.weights = np.zeros((self.n, 1))\n",
    "        self.bias = 0\n",
    "\n",
    "        for _ in range(self.epochs):\n",
    "            linear_model = np.dot(X, self.weights) + self.bias\n",
    "            y_pred = self.sigmoid(linear_model)\n",
    "\n",
    "            dw = (1/self.m) * np.dot(X.T, (y_pred - y))\n",
    "            db = (1/self.m) * np.sum(y_pred - y)\n",
    "\n",
    "            self.weights -= self.lr * dw\n",
    "            self.bias -= self.lr * db\n",
    "\n",
    "    def predict(self, X):\n",
    "        linear_model = np.dot(X, self.weights) + self.bias\n",
    "        return self.sigmoid(linear_model)\n",
    "\n",
    "    def predict_classes(self, X, threshold=0.5):\n",
    "        return (self.predict(X) >= threshold).astype(int)"
   ]
  },
  {
   "cell_type": "code",
   "execution_count": null,
   "id": "8a0915f7",
   "metadata": {},
   "outputs": [],
   "source": [
    "X_train, X_test, y_train, y_test = train_test_split(X_scaled, y, test_size=0.2, random_state=42)\n",
    "\n",
    "model = LogisticRegressionCustom()\n",
    "model.fit(X_train, y_train)\n",
    "y_pred_proba = model.predict(X_test)\n",
    "y_pred = model.predict_classes(X_test)\n",
    "\n",
    "print(\"Accuracy:\", accuracy_score(y_test, y_pred))\n",
    "print(\"Precision:\", precision_score(y_test, y_pred))\n",
    "print(\"Recall:\", recall_score(y_test, y_pred))\n",
    "print(\"F1 Score:\", f1_score(y_test, y_pred))\n",
    "print(\"R2 Score:\", r2_score(y_test, y_pred))\n",
    "print(\"MAE:\", mean_absolute_error(y_test, y_pred))\n",
    "print(\"MAPE:\", mean_absolute_percentage_error(y_test, y_pred))\n",
    "print(\"Confusion Matrix:\\n\", confusion_matrix(y_test, y_pred))"
   ]
  },
  {
   "cell_type": "code",
   "execution_count": null,
   "id": "8da86601",
   "metadata": {},
   "outputs": [],
   "source": [
    "#",
    "df = pd.read_csv(\"train.csv\")\n",
    "df['Age'] = df['Age'].fillna(df['Age'].mean())\n",
    "df['Embarked'] = df['Embarked'].fillna('S')\n",
    "df['FamilySize'] = df['SibSp'] + df['Parch'] + 1\n",
    "df['IsAlone'] = (df['FamilySize'] == 1).astype(int)\n",
    "df.drop(['Cabin', 'Name', 'Ticket', 'PassengerId'], axis=1, inplace=True)\n",
    "\n",
    "df = pd.concat([\n",
    "    df,\n",
    "    pd.get_dummies(df['Sex'], drop_first=True),\n",
    "    pd.get_dummies(df['Embarked'], drop_first=True),\n",
    "    pd.get_dummies(df['Pclass'], prefix='Pclass', drop_first=True)\n",
    "], axis=1)\n",
    "\n",
    "df.drop(['Sex', 'Embarked', 'Pclass'], axis=1, inplace=True)\n",
    "\n",
    "X = df.drop(\"Survived\", axis=1).values\n",
    "y = df[\"Survived\"].values.reshape(-1, 1)\n",
    "\n",
    "X_train, X_test, y_train, y_test = train_test_split(X, y, test_size=0.25, random_state=42)\n",
    "sc = StandardScaler()\n",
    "X_train = sc.fit_transform(X_train)\n",
    "X_test = sc.transform(X_test)\n",
    "\n",
    "model = MyLogisticRegression(lr=0.1, epochs=1000)\n",
    "model.fit(X_train, y_train, X_val=X_test, y_val=y_test)\n",
    "y_pred = model.predict(X_test)\n",
    "\n",
    "print(\"Improved Accuracy:\", accuracy_score(y_test, y_pred))\n",
    "print(\"Improved Precision:\", precision_score(y_test, y_pred))\n",
    "print(\"Improved Recall:\", recall_score(y_test, y_pred))\n",
    "print(\"Improved F1 Score:\", f1_score(y_test, y_pred))"
   ]
  }
 ],
 "metadata": {},
 "nbformat": 4,
 "nbformat_minor": 5
}
